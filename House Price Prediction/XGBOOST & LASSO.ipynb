{
 "cells": [
  {
   "cell_type": "markdown",
   "metadata": {},
   "source": [
    "# House Price : Advance Regression Techniques"
   ]
  },
  {
   "cell_type": "markdown",
   "metadata": {},
   "source": [
    "# XGBOOST & LASSO"
   ]
  },
  {
   "cell_type": "code",
   "execution_count": 1,
   "metadata": {},
   "outputs": [],
   "source": [
    "#Importing Lib\n",
    "\n",
    "import pandas as pd\n",
    "from pandas import DataFrame\n",
    "import numpy as np\n",
    "import matplotlib.pyplot as plt\n",
    "import xgboost as xgb"
   ]
  },
  {
   "cell_type": "code",
   "execution_count": 2,
   "metadata": {},
   "outputs": [],
   "source": [
    "train = pd.read_csv(\"train.csv\")\n",
    "test= pd.read_csv(\"test.csv\")"
   ]
  },
  {
   "cell_type": "code",
   "execution_count": 3,
   "metadata": {},
   "outputs": [],
   "source": [
    "temp = train.copy()\n",
    "data=pd.concat([temp.drop(['SalePrice'],axis=1),test],axis=0) #Drop the SalePrice Colum"
   ]
  },
  {
   "cell_type": "code",
   "execution_count": 4,
   "metadata": {},
   "outputs": [
    {
     "data": {
      "text/plain": [
       "(2919, 80)"
      ]
     },
     "execution_count": 4,
     "metadata": {},
     "output_type": "execute_result"
    }
   ],
   "source": [
    "data.shape"
   ]
  },
  {
   "cell_type": "code",
   "execution_count": 5,
   "metadata": {},
   "outputs": [],
   "source": [
    "#Check the colum contain null values\n",
    "\n",
    "def checknans(df):\n",
    "    nan_col = df.columns[df.isnull().any()].tolist()\n",
    "    return(df[nan_col].isnull().sum())"
   ]
  },
  {
   "cell_type": "code",
   "execution_count": 6,
   "metadata": {},
   "outputs": [
    {
     "data": {
      "text/plain": [
       "MSZoning           4\n",
       "LotFrontage      486\n",
       "Alley           2721\n",
       "Utilities          2\n",
       "Exterior1st        1\n",
       "Exterior2nd        1\n",
       "MasVnrType        24\n",
       "MasVnrArea        23\n",
       "BsmtQual          81\n",
       "BsmtCond          82\n",
       "BsmtExposure      82\n",
       "BsmtFinType1      79\n",
       "BsmtFinSF1         1\n",
       "BsmtFinType2      80\n",
       "BsmtFinSF2         1\n",
       "BsmtUnfSF          1\n",
       "TotalBsmtSF        1\n",
       "Electrical         1\n",
       "BsmtFullBath       2\n",
       "BsmtHalfBath       2\n",
       "KitchenQual        1\n",
       "Functional         2\n",
       "FireplaceQu     1420\n",
       "GarageType       157\n",
       "GarageYrBlt      159\n",
       "GarageFinish     159\n",
       "GarageCars         1\n",
       "GarageArea         1\n",
       "GarageQual       159\n",
       "GarageCond       159\n",
       "PoolQC          2909\n",
       "Fence           2348\n",
       "MiscFeature     2814\n",
       "SaleType           1\n",
       "dtype: int64"
      ]
     },
     "execution_count": 6,
     "metadata": {},
     "output_type": "execute_result"
    }
   ],
   "source": [
    "checknans(data)"
   ]
  },
  {
   "cell_type": "code",
   "execution_count": 7,
   "metadata": {},
   "outputs": [],
   "source": [
    "#Fill those column with some value\n",
    "def fill(col,df,val):\n",
    "    df.loc[df[col].isnull(),col]=val"
   ]
  },
  {
   "cell_type": "code",
   "execution_count": 8,
   "metadata": {},
   "outputs": [],
   "source": [
    "fill('Alley',data,'None')\n",
    "fill('PoolQC',data, 'None')\n",
    "fill('Fence', data, 'None')\n",
    "fill('MiscFeature', data, 'None')\n",
    "fill('FireplaceQu', data, 'None')\n",
    "fill('Electrical',data,'SBrkr') #Filled NaNs with most frequent value\n",
    "fill('MSZoning',data,'RL') #Filled NaNs with most frequent value\n",
    "fill('KitchenQual',data,'TA') #Filled NaNs with most frequent value\n",
    "fill('Functional',data,'Typ') #Filled NaNs with most frequent value\n",
    "fill('SaleType',data,'WD') #Filled NaNs with most frequent value\n",
    "fill('MasVnrType',data,'None')\n",
    "fill('MasVnrArea',data,0.0)\n",
    "fill('Utilities',data,'AllPub') #filled with most frequent value\n",
    "\n",
    "\n",
    "fill('BsmtQual',data,'None')\n",
    "fill('BsmtFinType1',data,'None')\n",
    "fill('BsmtFinType2',data,'None')\n",
    "fill('BsmtCond',data,'None')\n",
    "fill('BsmtExposure',data,'None')\n",
    "\n",
    "\n",
    "fill('GarageType',data,'None')\n",
    "fill('GarageQual',data,'None')\n",
    "fill('GarageCond',data,'None')\n",
    "fill('GarageYrBlt',data,'None')\n",
    "fill('GarageFinish',data,'None')\n",
    "fill('LowQualFinSF',data,0.0)\n",
    "fill('BsmtFullBath',data,0.0)\n",
    "fill('BsmtHalfBath',data,0.0)\n",
    "fill('HalfBath',data,0.0)\n",
    "fill('Fireplaces',data,0.0)\n",
    "fill('EnclosedPorch',data,0.0)\n",
    "fill('3SsnPorch',data,0.0)\n",
    "fill('ScreenPorch',data,0.0)\n",
    "fill('PoolArea',data,0.0)\n",
    "fill('GarageArea',data,0.0)\n",
    "fill('GarageCars',data,0.0)\n",
    "fill('BsmtFinSF2',data,0.0)\n",
    "fill('Exterior1st',data,0.0)\n",
    "fill('Exterior2nd',data,0.0)\n",
    "\n",
    "\n",
    "fill('LotFrontage',data,0.0)\n",
    "fill('BsmtFinSF1',data,0.0)\n",
    "fill('BsmtUnfSF',data,0.0)\n",
    "fill('TotalBsmtSF',data,0.0)\n",
    "fill('2ndFlrSF',data,0.0)\n",
    "fill('WoodDeckSF',data,0.0)\n",
    "fill('OpenPorchSF',data,0.0)\n",
    "fill('MiscVal',data,0.0)\n",
    "fill('MoSold',data,0.0)\n",
    "\n"
   ]
  },
  {
   "cell_type": "code",
   "execution_count": 9,
   "metadata": {},
   "outputs": [],
   "source": [
    "#Generating Polynomial Features\n",
    "\n",
    "#The columns which are highly correlated with sale price are generated by polynomial degree 2 & 3\n",
    "def poly(deg,x):\n",
    "    return x**deg\n",
    "\n",
    "col_names = ['OverallQual','GrLivArea','GarageCars','GarageArea']\n",
    "cnt = 0\n",
    "#Degree 2\n",
    "for nm in col_names:\n",
    "    data[nm +'-deg4'+str(cnt)] = poly(2,data[nm])\n",
    "\n",
    "#degree 3\n",
    "for nm in col_names:\n",
    "    data[nm +'-deg5'+str(cnt)] = poly(3,data[nm])"
   ]
  },
  {
   "cell_type": "code",
   "execution_count": 10,
   "metadata": {},
   "outputs": [],
   "source": [
    "#Encoding of categorical variables\n",
    "house_data_encoded=pd.get_dummies(data)"
   ]
  },
  {
   "cell_type": "code",
   "execution_count": 11,
   "metadata": {},
   "outputs": [],
   "source": [
    "#Normalize data \n",
    "\n",
    "#Normalization of data using log(1+x)\n",
    "Norm_data=np.log1p(house_data_encoded)\n",
    "Norm_data_true=np.log1p(train.SalePrice)\n",
    "\n",
    "rows = train.shape[0]\n",
    "\n",
    "\n",
    "#split into Training set and Test set\n",
    "Train_data=Norm_data[:rows]\n",
    "Test_data=Norm_data[rows:]"
   ]
  },
  {
   "cell_type": "code",
   "execution_count": 12,
   "metadata": {},
   "outputs": [],
   "source": [
    "regr = xgb.XGBRegressor(\n",
    "                 colsample_bytree=0.2,\n",
    "                 gamma=0.0,\n",
    "                 learning_rate=0.05,\n",
    "                 max_depth=6,\n",
    "                 min_child_weight=1.5,\n",
    "                 n_estimators=7200,                                                                  \n",
    "                 reg_alpha=0.9,\n",
    "                 reg_lambda=0.6,\n",
    "                 subsample=0.2,\n",
    "                 seed=42,\n",
    "                 silent=1)\n",
    "\n",
    "regr.fit(Train_data, Norm_data_true)\n",
    "\n",
    "# Run prediction on training set to get a rough idea of how well it does.\n",
    "y_pred = regr.predict(Test_data)"
   ]
  },
  {
   "cell_type": "code",
   "execution_count": 37,
   "metadata": {},
   "outputs": [],
   "source": [
    "#Test_data= Test_data.reshape(-1, 1)\n",
    "from sklearn.linear_model import Lasso\n",
    "\n",
    "# I found this best alpha through cross-validation.\n",
    "best_alpha = 0.00099\n",
    "\n",
    "regr = Lasso(alpha=best_alpha, max_iter=50000)\n",
    "regr.fit(Train_data, Norm_data_true)\n",
    "\n",
    "# Run prediction on training set to get a rough idea of how well it does.\n",
    "y_pred_lasso = regr.predict(Test_data)"
   ]
  },
  {
   "cell_type": "code",
   "execution_count": 38,
   "metadata": {},
   "outputs": [],
   "source": [
    "#from sklearn.ensemble import GradientBoostingRegressor"
   ]
  },
  {
   "cell_type": "code",
   "execution_count": 39,
   "metadata": {},
   "outputs": [],
   "source": [
    "#model_g = GradientBoostingRegressor()\n",
    "#clf =model_g.fit(Train_data,Norm_data_true)\n",
    "#y_pred_GradientB = model_g.predict(Test_data)"
   ]
  },
  {
   "cell_type": "code",
   "execution_count": 40,
   "metadata": {},
   "outputs": [],
   "source": [
    "#Prediction\n",
    "Svr_GradientB = (y_pred*0.5 +y_pred_lasso )/1.5\n",
    "predictions = np.exp(Svr_GradientB)"
   ]
  },
  {
   "cell_type": "code",
   "execution_count": 41,
   "metadata": {},
   "outputs": [
    {
     "data": {
      "text/plain": [
       "array([119363.06415217, 160711.33244139, 178737.56754993, ...,\n",
       "       168070.2271492 , 113837.61746285, 224594.2968878 ])"
      ]
     },
     "execution_count": 41,
     "metadata": {},
     "output_type": "execute_result"
    }
   ],
   "source": [
    "predictions"
   ]
  },
  {
   "cell_type": "code",
   "execution_count": 45,
   "metadata": {},
   "outputs": [
    {
     "data": {
      "image/png": "[encoded data removed]",
      "text/plain": [
       "<Figure size 432x288 with 1 Axes>"
      ]
     },
     "metadata": {},
     "output_type": "display_data"
    }
   ],
   "source": [
    " #Visualising the SVR results (for higher resolution and smoother curve)\n",
    "\n",
    "#X_grid = np.arange(min(X), max(X+0.1), 0.1) # fOR HIGHER RESOLUTION\n",
    "#X_grid = X_grid.reshape((len(X_grid),1))\n",
    "\n",
    "plt.scatter(Train_data.iloc[:,20], Norm_data_true,color = 'red')\n",
    "plt.plot(Train_data.iloc[:,42],regr.predict(Train_data),\".\",color = 'blue')\n",
    "plt.title('Sale price predicition')\n",
    "plt.xlabel('Features')\n",
    "plt.ylabel('Price')\n",
    "\n",
    "plt.show()"
   ]
  },
  {
   "cell_type": "code",
   "execution_count": 398,
   "metadata": {},
   "outputs": [],
   "source": [
    "pd.DataFrame(predictions,columns=['SalePrice']).to_csv('Prediction.csv')"
   ]
  },
  {
   "cell_type": "code",
   "execution_count": null,
   "metadata": {},
   "outputs": [],
   "source": []
  }
 ],
 "metadata": {
  "kernelspec": {
   "display_name": "Python 3",
   "language": "python",
   "name": "python3"
  },
  "language_info": {
   "codemirror_mode": {
    "name": "ipython",
    "version": 3
   },
   "file_extension": ".py",
   "mimetype": "text/x-python",
   "name": "python",
   "nbconvert_exporter": "python",
   "pygments_lexer": "ipython3",
   "version": "3.6.5"
  }
 },
 "nbformat": 4,
 "nbformat_minor": 2
}
